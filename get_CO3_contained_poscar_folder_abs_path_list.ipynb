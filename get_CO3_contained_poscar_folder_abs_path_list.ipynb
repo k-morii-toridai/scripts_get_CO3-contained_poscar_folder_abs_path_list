{
 "cells": [
  {
   "cell_type": "code",
   "execution_count": 9,
   "id": "ac77ca3b-8e8d-4cfd-bda8-bc72c9ef07d4",
   "metadata": {
    "tags": []
   },
   "outputs": [],
   "source": [
    "import numpy as np\n",
    "\n",
    "CO3_contained_nnlist_abs_path_list_loaded = np.load('/mnt/ssd_elecom_black_c2c/scripts_get_CO3-contained_nnlist_abs_path_list/CO3_contained_nnlist_abs_path_list.npy')\n",
    "\n",
    "CO3_contained_poscar_folder_abs_path_list = [nnlist_path[:-14] for nnlist_path in CO3_contained_nnlist_abs_path_list_loaded]\n",
    "\n",
    "np.save('CO3_contained_poscar_folder_abs_path_list.npy', CO3_contained_poscar_folder_abs_path_list)"
   ]
  }
 ],
 "metadata": {
  "kernelspec": {
   "display_name": "Python 3 (ipykernel)",
   "language": "python",
   "name": "python3"
  },
  "language_info": {
   "codemirror_mode": {
    "name": "ipython",
    "version": 3
   },
   "file_extension": ".py",
   "mimetype": "text/x-python",
   "name": "python",
   "nbconvert_exporter": "python",
   "pygments_lexer": "ipython3",
   "version": "3.10.12"
  }
 },
 "nbformat": 4,
 "nbformat_minor": 5
}
